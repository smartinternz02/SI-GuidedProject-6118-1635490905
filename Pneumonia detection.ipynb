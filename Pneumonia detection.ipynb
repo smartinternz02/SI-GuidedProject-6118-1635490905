{
 "cells": [
  {
   "cell_type": "markdown",
   "metadata": {},
   "source": [
    " # Import Necessary Libraries"
   ]
  },
  {
   "cell_type": "markdown",
   "metadata": {},
   "source": [
    "## Let us import necessary libraries to get started!"
   ]
  },
  {
   "cell_type": "code",
   "execution_count": 1,
   "metadata": {},
   "outputs": [
    {
     "name": "stderr",
     "output_type": "stream",
     "text": [
      "C:\\Users\\Lenovo\\Anaconda3\\lib\\site-packages\\h5py\\__init__.py:72: UserWarning: h5py is running against HDF5 1.10.2 when it was built against 1.10.3, this may cause problems\n",
      "  '{0}.{1}.{2}'.format(*version.hdf5_built_version_tuple)\n"
     ]
    }
   ],
   "source": [
    "from tensorflow.keras.models import Sequential\n",
    "from tensorflow.keras.layers import Dense\n",
    "from tensorflow.keras.layers import Convolution2D\n",
    "from tensorflow.keras.layers import MaxPooling2D\n",
    "from tensorflow.keras.layers import Flatten"
   ]
  },
  {
   "cell_type": "markdown",
   "metadata": {},
   "source": [
    "## Import ImageDataGenerator library "
   ]
  },
  {
   "cell_type": "code",
   "execution_count": 2,
   "metadata": {},
   "outputs": [
    {
     "name": "stderr",
     "output_type": "stream",
     "text": [
      "Using TensorFlow backend.\n"
     ]
    }
   ],
   "source": [
    "from keras.preprocessing.image import ImageDataGenerator"
   ]
  },
  {
   "cell_type": "markdown",
   "metadata": {},
   "source": [
    "## Configure the ImageDataGenerator class"
   ]
  },
  {
   "cell_type": "code",
   "execution_count": 3,
   "metadata": {},
   "outputs": [],
   "source": [
    "train_datagen=ImageDataGenerator(rescale=1./255,shear_range=0.2,zoom_range=0.2,horizontal_flip=True)\n",
    "test_datagen=ImageDataGenerator(rescale=1./255)"
   ]
  },
  {
   "cell_type": "markdown",
   "metadata": {},
   "source": [
    "## Apply ImageDataGenerator functionality to Train and Test data"
   ]
  },
  {
   "cell_type": "code",
   "execution_count": 4,
   "metadata": {},
   "outputs": [
    {
     "name": "stdout",
     "output_type": "stream",
     "text": [
      "Found 5216 images belonging to 2 classes.\n",
      "Found 624 images belonging to 2 classes.\n"
     ]
    }
   ],
   "source": [
    "x_train=train_datagen.flow_from_directory(r\"E:\\KEC\\AI\\Training\\Project on Pneumonia Detection\\Pneumonia Detection\\dataset\\train\",target_size=(64,64),batch_size=32,class_mode=\"binary\")\n",
    "x_test=test_datagen.flow_from_directory(r\"E:\\KEC\\AI\\Training\\Project on Pneumonia Detection\\Pneumonia Detection\\dataset\\test\",target_size=(64,64),batch_size=32,class_mode=\"binary\")"
   ]
  },
  {
   "cell_type": "code",
   "execution_count": 5,
   "metadata": {},
   "outputs": [
    {
     "name": "stdout",
     "output_type": "stream",
     "text": [
      "{'NORMAL': 0, 'PNEUMONIA': 1}\n"
     ]
    }
   ],
   "source": [
    "print(x_train.class_indices)"
   ]
  },
  {
   "cell_type": "markdown",
   "metadata": {},
   "source": [
    "# Model Building"
   ]
  },
  {
   "cell_type": "markdown",
   "metadata": {},
   "source": [
    "## Initialize the model"
   ]
  },
  {
   "cell_type": "code",
   "execution_count": 6,
   "metadata": {},
   "outputs": [],
   "source": [
    "model=Sequential()"
   ]
  },
  {
   "cell_type": "markdown",
   "metadata": {},
   "source": [
    "## Add first Convolution layer"
   ]
  },
  {
   "cell_type": "code",
   "execution_count": 7,
   "metadata": {},
   "outputs": [
    {
     "name": "stdout",
     "output_type": "stream",
     "text": [
      "WARNING:tensorflow:From C:\\Users\\Lenovo\\Anaconda3\\lib\\site-packages\\tensorflow\\python\\ops\\resource_variable_ops.py:435: colocate_with (from tensorflow.python.framework.ops) is deprecated and will be removed in a future version.\n",
      "Instructions for updating:\n",
      "Colocations handled automatically by placer.\n"
     ]
    }
   ],
   "source": [
    "model.add(Convolution2D(32,(3,3),input_shape=(64,64,3),activation=\"relu\"))"
   ]
  },
  {
   "cell_type": "markdown",
   "metadata": {},
   "source": [
    "## Add second Convolution layer"
   ]
  },
  {
   "cell_type": "code",
   "execution_count": 9,
   "metadata": {},
   "outputs": [],
   "source": [
    "model.add(Convolution2D(32,(3,3), activation=\"relu\"))"
   ]
  },
  {
   "cell_type": "markdown",
   "metadata": {},
   "source": [
    "## Add Pooling layer"
   ]
  },
  {
   "cell_type": "code",
   "execution_count": 10,
   "metadata": {},
   "outputs": [],
   "source": [
    "model.add(MaxPooling2D(pool_size=(2,2)))"
   ]
  },
  {
   "cell_type": "markdown",
   "metadata": {},
   "source": [
    "## Add Flatten layer"
   ]
  },
  {
   "cell_type": "code",
   "execution_count": 11,
   "metadata": {},
   "outputs": [],
   "source": [
    "model.add(Flatten())"
   ]
  },
  {
   "cell_type": "markdown",
   "metadata": {},
   "source": [
    "## Add hidden layer"
   ]
  },
  {
   "cell_type": "code",
   "execution_count": 12,
   "metadata": {},
   "outputs": [],
   "source": [
    "model.add(Dense(units=128,activation=\"relu\"))"
   ]
  },
  {
   "cell_type": "markdown",
   "metadata": {},
   "source": [
    "## Add Output layer"
   ]
  },
  {
   "cell_type": "code",
   "execution_count": 13,
   "metadata": {},
   "outputs": [],
   "source": [
    "model.add(Dense(units=1,activation=\"sigmoid\"))"
   ]
  },
  {
   "cell_type": "code",
   "execution_count": 14,
   "metadata": {},
   "outputs": [
    {
     "name": "stdout",
     "output_type": "stream",
     "text": [
      "_________________________________________________________________\n",
      "Layer (type)                 Output Shape              Param #   \n",
      "=================================================================\n",
      "conv2d (Conv2D)              (None, 62, 62, 32)        896       \n",
      "_________________________________________________________________\n",
      "conv2d_1 (Conv2D)            (None, 60, 60, 32)        9248      \n",
      "_________________________________________________________________\n",
      "max_pooling2d (MaxPooling2D) (None, 30, 30, 32)        0         \n",
      "_________________________________________________________________\n",
      "flatten (Flatten)            (None, 28800)             0         \n",
      "_________________________________________________________________\n",
      "dense (Dense)                (None, 128)               3686528   \n",
      "_________________________________________________________________\n",
      "dense_1 (Dense)              (None, 1)                 129       \n",
      "=================================================================\n",
      "Total params: 3,696,801\n",
      "Trainable params: 3,696,801\n",
      "Non-trainable params: 0\n",
      "_________________________________________________________________\n"
     ]
    }
   ],
   "source": [
    "model.summary()"
   ]
  },
  {
   "cell_type": "markdown",
   "metadata": {},
   "source": [
    "## Compile the model"
   ]
  },
  {
   "cell_type": "code",
   "execution_count": 15,
   "metadata": {},
   "outputs": [],
   "source": [
    "model.compile(loss=\"binary_crossentropy\", optimizer=\"Adam\",metrics=[\"accuracy\"])"
   ]
  },
  {
   "cell_type": "markdown",
   "metadata": {},
   "source": [
    "## Fit the model to the data"
   ]
  },
  {
   "cell_type": "code",
   "execution_count": 16,
   "metadata": {},
   "outputs": [
    {
     "name": "stdout",
     "output_type": "stream",
     "text": [
      "WARNING:tensorflow:From C:\\Users\\Lenovo\\Anaconda3\\lib\\site-packages\\tensorflow\\python\\ops\\math_ops.py:3066: to_int32 (from tensorflow.python.ops.math_ops) is deprecated and will be removed in a future version.\n",
      "Instructions for updating:\n",
      "Use tf.cast instead.\n",
      "Epoch 1/20\n",
      "20/20 [==============================] - 17s 839ms/step - loss: 0.4359 - acc: 0.8045\n",
      "163/163 [==============================] - 198s 1s/step - loss: 0.3862 - acc: 0.8336 - val_loss: 0.4359 - val_acc: 0.8045\n",
      "Epoch 2/20\n",
      "20/20 [==============================] - 16s 780ms/step - loss: 0.3784 - acc: 0.8285\n",
      "163/163 [==============================] - 196s 1s/step - loss: 0.2320 - acc: 0.9038 - val_loss: 0.3784 - val_acc: 0.8285\n",
      "Epoch 3/20\n",
      "20/20 [==============================] - 15s 773ms/step - loss: 0.3181 - acc: 0.8750\n",
      "163/163 [==============================] - 192s 1s/step - loss: 0.2064 - acc: 0.9160 - val_loss: 0.3181 - val_acc: 0.8750\n",
      "Epoch 4/20\n",
      "20/20 [==============================] - 15s 771ms/step - loss: 0.4642 - acc: 0.8301\n",
      "163/163 [==============================] - 190s 1s/step - loss: 0.1806 - acc: 0.9260 - val_loss: 0.4642 - val_acc: 0.8301\n",
      "Epoch 5/20\n",
      "20/20 [==============================] - 15s 769ms/step - loss: 0.3579 - acc: 0.8702\n",
      "163/163 [==============================] - 190s 1s/step - loss: 0.1692 - acc: 0.9346 - val_loss: 0.3579 - val_acc: 0.8702\n",
      "Epoch 6/20\n",
      "20/20 [==============================] - 17s 830ms/step - loss: 0.3391 - acc: 0.8590\n",
      "163/163 [==============================] - 193s 1s/step - loss: 0.1609 - acc: 0.9354 - val_loss: 0.3391 - val_acc: 0.8590\n",
      "Epoch 7/20\n",
      "20/20 [==============================] - 17s 825ms/step - loss: 0.3950 - acc: 0.8718\n",
      "163/163 [==============================] - 195s 1s/step - loss: 0.1505 - acc: 0.9410 - val_loss: 0.3950 - val_acc: 0.8718\n",
      "Epoch 8/20\n",
      "20/20 [==============================] - 15s 766ms/step - loss: 0.4514 - acc: 0.8574\n",
      "163/163 [==============================] - 200s 1s/step - loss: 0.1443 - acc: 0.9423 - val_loss: 0.4514 - val_acc: 0.8574\n",
      "Epoch 9/20\n",
      "20/20 [==============================] - 16s 809ms/step - loss: 0.3867 - acc: 0.8766\n",
      "163/163 [==============================] - 198s 1s/step - loss: 0.1388 - acc: 0.9463 - val_loss: 0.3867 - val_acc: 0.8766\n",
      "Epoch 10/20\n",
      "20/20 [==============================] - 16s 813ms/step - loss: 0.4140 - acc: 0.8814\n",
      "163/163 [==============================] - 194s 1s/step - loss: 0.1314 - acc: 0.9528 - val_loss: 0.4140 - val_acc: 0.8814\n",
      "Epoch 11/20\n",
      "20/20 [==============================] - 16s 797ms/step - loss: 0.3585 - acc: 0.8814\n",
      "163/163 [==============================] - 195s 1s/step - loss: 0.1288 - acc: 0.9548 - val_loss: 0.3585 - val_acc: 0.8814\n",
      "Epoch 12/20\n",
      "20/20 [==============================] - 16s 778ms/step - loss: 0.3335 - acc: 0.8926\n",
      "163/163 [==============================] - 193s 1s/step - loss: 0.1214 - acc: 0.9555 - val_loss: 0.3335 - val_acc: 0.8926\n",
      "Epoch 13/20\n",
      "20/20 [==============================] - 16s 812ms/step - loss: 0.7910 - acc: 0.8045\n",
      "163/163 [==============================] - 194s 1s/step - loss: 0.1205 - acc: 0.9546 - val_loss: 0.7910 - val_acc: 0.8045\n",
      "Epoch 14/20\n",
      "20/20 [==============================] - 17s 863ms/step - loss: 0.3675 - acc: 0.8894\n",
      "163/163 [==============================] - 194s 1s/step - loss: 0.1202 - acc: 0.9549 - val_loss: 0.3675 - val_acc: 0.8894\n",
      "Epoch 15/20\n",
      "20/20 [==============================] - 16s 780ms/step - loss: 0.6246 - acc: 0.8397\n",
      "163/163 [==============================] - 193s 1s/step - loss: 0.1161 - acc: 0.9567 - val_loss: 0.6246 - val_acc: 0.8397\n",
      "Epoch 16/20\n",
      "20/20 [==============================] - 16s 775ms/step - loss: 0.3732 - acc: 0.8926\n",
      "163/163 [==============================] - 193s 1s/step - loss: 0.1081 - acc: 0.9599 - val_loss: 0.3732 - val_acc: 0.8926\n",
      "Epoch 17/20\n",
      "20/20 [==============================] - 16s 783ms/step - loss: 0.3266 - acc: 0.8990\n",
      "163/163 [==============================] - 196s 1s/step - loss: 0.0978 - acc: 0.9624 - val_loss: 0.3266 - val_acc: 0.8990\n",
      "Epoch 18/20\n",
      "20/20 [==============================] - 17s 843ms/step - loss: 0.5779 - acc: 0.8349\n",
      "163/163 [==============================] - 194s 1s/step - loss: 0.1068 - acc: 0.9603 - val_loss: 0.5779 - val_acc: 0.8349\n",
      "Epoch 19/20\n",
      "20/20 [==============================] - 16s 789ms/step - loss: 0.3211 - acc: 0.9087\n",
      "163/163 [==============================] - 193s 1s/step - loss: 0.1001 - acc: 0.9624 - val_loss: 0.3211 - val_acc: 0.9087\n",
      "Epoch 20/20\n",
      "20/20 [==============================] - 15s 771ms/step - loss: 0.4518 - acc: 0.8910\n",
      "163/163 [==============================] - 191s 1s/step - loss: 0.1015 - acc: 0.9605 - val_loss: 0.4518 - val_acc: 0.8910\n"
     ]
    },
    {
     "data": {
      "text/plain": [
       "<tensorflow.python.keras.callbacks.History at 0x132a2fb4710>"
      ]
     },
     "execution_count": 16,
     "metadata": {},
     "output_type": "execute_result"
    }
   ],
   "source": [
    "model.fit(x_train,steps_per_epoch=163,epochs=20,validation_data=x_test,validation_steps=20)"
   ]
  },
  {
   "cell_type": "code",
   "execution_count": 17,
   "metadata": {},
   "outputs": [],
   "source": [
    "#steps_per_epoch=no_of_images_in_train_data/batch_size = 5216/32= 163\n",
    "#Validation_steps=no_of_images_in_test_data/batch_size = 624/32 =20"
   ]
  },
  {
   "cell_type": "markdown",
   "metadata": {},
   "source": [
    "## Save the model"
   ]
  },
  {
   "cell_type": "code",
   "execution_count": 18,
   "metadata": {},
   "outputs": [],
   "source": [
    "model.save(\"pneumonia.h5\")"
   ]
  },
  {
   "cell_type": "markdown",
   "metadata": {},
   "source": [
    "## Import the necessary libraries"
   ]
  },
  {
   "cell_type": "code",
   "execution_count": 19,
   "metadata": {},
   "outputs": [],
   "source": [
    "from tensorflow.keras.models import load_model\n",
    "from keras.preprocessing import image\n",
    "import numpy as np"
   ]
  },
  {
   "cell_type": "code",
   "execution_count": 20,
   "metadata": {},
   "outputs": [],
   "source": [
    "model=load_model(\"pneumonia.h5\")"
   ]
  },
  {
   "cell_type": "code",
   "execution_count": 28,
   "metadata": {},
   "outputs": [],
   "source": [
    "img=image.load_img(r\"E:\\KEC\\AI\\Training\\Project on Pneumonia Detection\\Pneumonia Detection\\dataset\\val\\PNEUMONIA\\person1946_bacteria_4874.jpeg\",target_size=(64,64))"
   ]
  },
  {
   "cell_type": "code",
   "execution_count": 29,
   "metadata": {},
   "outputs": [],
   "source": [
    "x=image.img_to_array(img)"
   ]
  },
  {
   "cell_type": "code",
   "execution_count": 30,
   "metadata": {},
   "outputs": [],
   "source": [
    "x=np.expand_dims(x, axis=0)"
   ]
  },
  {
   "cell_type": "code",
   "execution_count": 31,
   "metadata": {},
   "outputs": [],
   "source": [
    "from keras.applications.imagenet_utils import preprocess_input\n",
    "img_data=preprocess_input(x)"
   ]
  },
  {
   "cell_type": "markdown",
   "metadata": {},
   "source": [
    "## Test the model "
   ]
  },
  {
   "cell_type": "code",
   "execution_count": 32,
   "metadata": {},
   "outputs": [],
   "source": [
    "classes=model.predict(img_data)"
   ]
  },
  {
   "cell_type": "code",
   "execution_count": 33,
   "metadata": {},
   "outputs": [],
   "source": [
    "result=int(classes[0][0])"
   ]
  },
  {
   "cell_type": "code",
   "execution_count": 34,
   "metadata": {},
   "outputs": [
    {
     "name": "stdout",
     "output_type": "stream",
     "text": [
      "Person is affected with Pneumonia\n"
     ]
    }
   ],
   "source": [
    "if result==1:\n",
    "    print(\"Person is affected with Pneumonia\")\n",
    "else:\n",
    "    print(\"Person is Normal\")"
   ]
  }
 ],
 "metadata": {
  "kernelspec": {
   "display_name": "Python 3",
   "language": "python",
   "name": "python3"
  },
  "language_info": {
   "codemirror_mode": {
    "name": "ipython",
    "version": 3
   },
   "file_extension": ".py",
   "mimetype": "text/x-python",
   "name": "python",
   "nbconvert_exporter": "python",
   "pygments_lexer": "ipython3",
   "version": "3.7.3"
  }
 },
 "nbformat": 4,
 "nbformat_minor": 2
}
